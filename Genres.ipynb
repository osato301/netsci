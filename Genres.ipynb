{
 "cells": [
  {
   "cell_type": "code",
   "execution_count": 1,
   "id": "5f65649e-93bc-42de-8704-67131cf5666e",
   "metadata": {},
   "outputs": [],
   "source": [
    "#genre analysis\n",
    "import pandas as pd\n",
    "import ast"
   ]
  },
  {
   "cell_type": "code",
   "execution_count": 2,
   "id": "3c39aa4a-719e-4a43-a6ad-908ee35d2f6f",
   "metadata": {},
   "outputs": [],
   "source": [
    "cover_df = pd.read_csv('nsdata_021223.csv')"
   ]
  },
  {
   "cell_type": "code",
   "execution_count": 3,
   "id": "b876bd98-f92d-4610-88c0-095cba76fa0f",
   "metadata": {},
   "outputs": [],
   "source": [
    "genres_orig = cover_df['Cover Genre']"
   ]
  },
  {
   "cell_type": "code",
   "execution_count": 4,
   "id": "add6d838-c90e-4aca-8f26-93ae90cbd0c4",
   "metadata": {},
   "outputs": [],
   "source": [
    "# Function to extract the list from a string of lists like we did above\n",
    "def extract_list(row):\n",
    "    # Check for NaN values\n",
    "    if pd.isna(row):\n",
    "        return None\n",
    "    parsed_list = ast.literal_eval(row)\n",
    "    if isinstance(parsed_list, list) and len(parsed_list) > 0:\n",
    "        return parsed_list\n",
    "    else:\n",
    "        return None"
   ]
  },
  {
   "cell_type": "code",
   "execution_count": 5,
   "id": "b40d56f4-9c5b-4a35-acb5-f7fe7a6e6bd3",
   "metadata": {},
   "outputs": [],
   "source": [
    "#making genres list type\n",
    "copy = []\n",
    "for i in genres:\n",
    "    copy.append(extract_list(i))\n",
    "genres = copy"
   ]
  },
  {
   "cell_type": "code",
   "execution_count": 6,
   "id": "dda703ae-03e2-4416-8cde-9a6b435e8eef",
   "metadata": {},
   "outputs": [],
   "source": [
    "genres_simplified = ['pop','rock','folk','rap','blues','r&b','jazz','hip hop','soul','punk', 'classical','orchestra','country','reggae',\n",
    "                     'metal','indie','gospel','funk','disco','experimental','show tunes','broadway','adult standards','house','boy band','girl group','british',\n",
    "                     'easy listening','dance', 'hollywood','techno','bluegrass','singer-songwriter','instrumental','talent show', 'a capella',\n",
    "                     'psychadelic','doo-wop','motown']"
   ]
  },
  {
   "cell_type": "code",
   "execution_count": 29,
   "id": "1d97b4bb-e883-4819-9182-558e1d1732f1",
   "metadata": {},
   "outputs": [],
   "source": [
    "genres_final = []\n",
    "for i in range(0,len(genres)):\n",
    "    temp = []\n",
    "    if genres[i] is not None:\n",
    "        for j in genres[i]:\n",
    "            for k in genres_simplified:\n",
    "                if k in j:\n",
    "                    temp.append(k)\n",
    "        if len(temp) == 0:\n",
    "            temp.append('other')\n",
    "        temp = set(temp)\n",
    "    genres_final.append(temp)"
   ]
  },
  {
   "cell_type": "code",
   "execution_count": 33,
   "id": "f2479ac0-1696-4602-ab5b-acaca455e258",
   "metadata": {},
   "outputs": [],
   "source": [
    "cover_df['Cover Genre Simplified'] = genres_final"
   ]
  },
  {
   "cell_type": "code",
   "execution_count": 38,
   "id": "be1e9355-2b37-4eaf-a947-df10bf4a621e",
   "metadata": {},
   "outputs": [],
   "source": [
    "cover_df.to_csv('nsdata_021223_simplifiedgenres.csv', index=False)"
   ]
  },
  {
   "cell_type": "code",
   "execution_count": null,
   "id": "e632dea0-072b-4e3f-aa66-7e088eee9e97",
   "metadata": {},
   "outputs": [],
   "source": []
  }
 ],
 "metadata": {
  "kernelspec": {
   "display_name": "Python 3 (ipykernel)",
   "language": "python",
   "name": "python3"
  },
  "language_info": {
   "codemirror_mode": {
    "name": "ipython",
    "version": 3
   },
   "file_extension": ".py",
   "mimetype": "text/x-python",
   "name": "python",
   "nbconvert_exporter": "python",
   "pygments_lexer": "ipython3",
   "version": "3.9.12"
  }
 },
 "nbformat": 4,
 "nbformat_minor": 5
}
